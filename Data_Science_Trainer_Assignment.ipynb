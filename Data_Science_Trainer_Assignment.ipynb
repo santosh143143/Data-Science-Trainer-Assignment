{
  "nbformat": 4,
  "nbformat_minor": 0,
  "metadata": {
    "colab": {
      "provenance": [],
      "authorship_tag": "ABX9TyNJyuQdsUXIPQ098YOpgprx",
      "include_colab_link": true
    },
    "kernelspec": {
      "name": "python3",
      "display_name": "Python 3"
    },
    "language_info": {
      "name": "python"
    }
  },
  "cells": [
    {
      "cell_type": "markdown",
      "metadata": {
        "id": "view-in-github",
        "colab_type": "text"
      },
      "source": [
        "<a href=\"https://colab.research.google.com/github/santosh143143/Data-Science-Trainer-Assignment/blob/main/Data_Science_Trainer_Assignment.ipynb\" target=\"_parent\"><img src=\"https://colab.research.google.com/assets/colab-badge.svg\" alt=\"Open In Colab\"/></a>"
      ]
    },
    {
      "cell_type": "code",
      "execution_count": 87,
      "metadata": {
        "id": "MGxNlT9Turjg"
      },
      "outputs": [],
      "source": [
        "import numpy as np\n",
        "import pandas as pd"
      ]
    },
    {
      "cell_type": "code",
      "source": [
        "df1 = pd.read_excel('/content/Cleaned Data.xlsx', sheet_name='Sheet1')\n",
        "df2 = pd.read_excel('/content/Cleaned Data.xlsx', sheet_name='Sheet2')"
      ],
      "metadata": {
        "id": "1eq5qxKWu8J2"
      },
      "execution_count": 88,
      "outputs": []
    },
    {
      "cell_type": "code",
      "source": [
        "print(df1)"
      ],
      "metadata": {
        "colab": {
          "base_uri": "https://localhost:8080/"
        },
        "id": "E0RZAX9FxHBA",
        "outputId": "8096d5d3-f25e-4845-9474-3f1f6adef5fa"
      },
      "execution_count": 89,
      "outputs": [
        {
          "output_type": "stream",
          "name": "stdout",
          "text": [
            "    S No           Name            Team Name  User ID\n",
            "0      1      Soumita M  Winning Culture Lab      280\n",
            "1      2     Subhangi 0  Winning Culture Lab       75\n",
            "2      3    Nitin Shane  Winning Culture Lab     1124\n",
            "3      4         Merwin               Mentor      295\n",
            "4      5  fardinkamal62    Human Capital Lab      263\n",
            "5      6  __riddhi_213_    Human Capital Lab      504\n",
            "6      7    Rohit Dutta               Mentor      266\n",
            "7      8       imshawan             Tech Lab       71\n",
            "8      9   Anuraj_Saini        BrandTech Lab      342\n",
            "9     10        sharath  Student Unicorn Lab     3367\n",
            "10    11        Ronak 0             Tech Lab      302\n",
            "11    12  Amrit Malviya        Brandtech Lab      336\n",
            "12    13        Saurabh               Mentor      271\n",
            "13    14    darshimalde  Student Unicorn Lab     3169\n",
            "14    15         Shagun             Tech Lab      100\n",
            "15    16         Ayisha  Student Unicorn Lab     3406\n",
            "16    17         Palash            Growpital       69\n",
            "17    18          raman            Growpital      539\n",
            "18    19        Nishant            Growpital      299\n",
            "19    20         Vatsal              Kringle     3408\n",
            "20    21       devmenkr              Kringle      360\n"
          ]
        }
      ]
    },
    {
      "cell_type": "code",
      "source": [
        "df2 = df2.drop(['Statement 1', 'Statement 2', 'Statement 3','Statement 4','Statement 5','Statement 6','Statement 7','Statement 8','Statement 9','Statement 10','Statement 11','Statement 12','Statement 13','Statement 14','Statement 15','Statement 16'], axis=1)  # removes columns with the specified names"
      ],
      "metadata": {
        "id": "rM2IrAzw1ge2"
      },
      "execution_count": 90,
      "outputs": []
    },
    {
      "cell_type": "code",
      "source": [
        "print(df2)"
      ],
      "metadata": {
        "colab": {
          "base_uri": "https://localhost:8080/"
        },
        "id": "re4xHIDY1U0K",
        "outputId": "9fb26566-125b-4331-8a56-7ff2c0843094"
      },
      "execution_count": 91,
      "outputs": [
        {
          "output_type": "stream",
          "name": "stdout",
          "text": [
            "    S No           name   uid  total_statements  total_reasons\n",
            "0      1      Soumita M   280                13             21\n",
            "1      2     Subhangi 0    75                13             16\n",
            "2      3    Nitin Shane  1124                12             11\n",
            "3      4         Merwin   295                13             12\n",
            "4      5  fardinkamal62   263                 2              2\n",
            "5      6  __riddhi_213_   504                 2              7\n",
            "6      7    Rohit Dutta   266                 3              3\n",
            "7      8       imshawan    71                 9              9\n",
            "8      9   Anuraj_Saini   342                 7              7\n",
            "9     10        sharath  3367                 8              8\n",
            "10    11        Ronak 0   302                16             19\n",
            "11    12  Amrit Malviya   336                 2              4\n",
            "12    13        Saurabh   271                 6              8\n",
            "13    14    darshimalde  3169                 3              3\n",
            "14    15         Shagun   100                 2              2\n",
            "15    16         Ayisha  3406                11              8\n",
            "16    17         Palash    69                 6              7\n",
            "17    18          raman   539                 5              5\n",
            "18    19        Nishant   299                 4              5\n",
            "19    20         Vatsal  3408                 2              2\n",
            "20    21       devmenkr   360                 7              7\n"
          ]
        }
      ]
    },
    {
      "cell_type": "code",
      "source": [
        "df = df1.merge(df2, on='S No', suffixes=('_left', '_right'))\n",
        "df = df.drop(columns=['name','User ID'])"
      ],
      "metadata": {
        "id": "gvNBm9NF2ErC"
      },
      "execution_count": 92,
      "outputs": []
    },
    {
      "cell_type": "code",
      "source": [
        "print(df)"
      ],
      "metadata": {
        "colab": {
          "base_uri": "https://localhost:8080/"
        },
        "id": "DBjFRZlC2-_G",
        "outputId": "8c4b08f0-2f30-4843-b3ca-03d96ad1aa62"
      },
      "execution_count": 93,
      "outputs": [
        {
          "output_type": "stream",
          "name": "stdout",
          "text": [
            "    S No           Name            Team Name   uid  total_statements  \\\n",
            "0      1      Soumita M  Winning Culture Lab   280                13   \n",
            "1      2     Subhangi 0  Winning Culture Lab    75                13   \n",
            "2      3    Nitin Shane  Winning Culture Lab  1124                12   \n",
            "3      4         Merwin               Mentor   295                13   \n",
            "4      5  fardinkamal62    Human Capital Lab   263                 2   \n",
            "5      6  __riddhi_213_    Human Capital Lab   504                 2   \n",
            "6      7    Rohit Dutta               Mentor   266                 3   \n",
            "7      8       imshawan             Tech Lab    71                 9   \n",
            "8      9   Anuraj_Saini        BrandTech Lab   342                 7   \n",
            "9     10        sharath  Student Unicorn Lab  3367                 8   \n",
            "10    11        Ronak 0             Tech Lab   302                16   \n",
            "11    12  Amrit Malviya        Brandtech Lab   336                 2   \n",
            "12    13        Saurabh               Mentor   271                 6   \n",
            "13    14    darshimalde  Student Unicorn Lab  3169                 3   \n",
            "14    15         Shagun             Tech Lab   100                 2   \n",
            "15    16         Ayisha  Student Unicorn Lab  3406                11   \n",
            "16    17         Palash            Growpital    69                 6   \n",
            "17    18          raman            Growpital   539                 5   \n",
            "18    19        Nishant            Growpital   299                 4   \n",
            "19    20         Vatsal              Kringle  3408                 2   \n",
            "20    21       devmenkr              Kringle   360                 7   \n",
            "\n",
            "    total_reasons  \n",
            "0              21  \n",
            "1              16  \n",
            "2              11  \n",
            "3              12  \n",
            "4               2  \n",
            "5               7  \n",
            "6               3  \n",
            "7               9  \n",
            "8               7  \n",
            "9               8  \n",
            "10             19  \n",
            "11              4  \n",
            "12              8  \n",
            "13              3  \n",
            "14              2  \n",
            "15              8  \n",
            "16              7  \n",
            "17              5  \n",
            "18              5  \n",
            "19              2  \n",
            "20              7  \n"
          ]
        }
      ]
    },
    {
      "cell_type": "code",
      "source": [
        "team_stats = df.groupby(df['Team Name'].str.lower()).agg({'total_statements': 'mean', 'total_reasons': 'mean'}).reset_index()"
      ],
      "metadata": {
        "id": "mmFZ8Vsm3eg4"
      },
      "execution_count": 94,
      "outputs": []
    },
    {
      "cell_type": "code",
      "source": [
        "team_stats = team_stats.sort_values(by='total_statements', ascending=False).reset_index(drop=True)"
      ],
      "metadata": {
        "id": "LAENSm7u5FaV"
      },
      "execution_count": 95,
      "outputs": []
    },
    {
      "cell_type": "code",
      "source": [
        "team_stats['Team Rank'] = team_stats.index + 1"
      ],
      "metadata": {
        "id": "yJMNKo1r5L8I"
      },
      "execution_count": 96,
      "outputs": []
    },
    {
      "cell_type": "code",
      "source": [
        "print(team_stats)"
      ],
      "metadata": {
        "colab": {
          "base_uri": "https://localhost:8080/"
        },
        "id": "5N0HSPi45Trf",
        "outputId": "5c1f541e-0b9c-4bfe-92b9-9317b2cd7cb2"
      },
      "execution_count": 97,
      "outputs": [
        {
          "output_type": "stream",
          "name": "stdout",
          "text": [
            "             Team Name  total_statements  total_reasons  Team Rank\n",
            "0  winning culture lab         12.666667      16.000000          1\n",
            "1             tech lab          9.000000      10.000000          2\n",
            "2               mentor          7.333333       7.666667          3\n",
            "3  student unicorn lab          7.333333       6.333333          4\n",
            "4            growpital          5.000000       5.666667          5\n",
            "5        brandtech lab          4.500000       5.500000          6\n",
            "6              kringle          4.500000       4.500000          7\n",
            "7    human capital lab          2.000000       4.500000          8\n"
          ]
        }
      ]
    },
    {
      "cell_type": "code",
      "source": [
        "cols = team_stats.columns.tolist()\n",
        "cols = [cols[3], cols[0], cols[1], cols[2]]\n",
        "team_stats = team_stats[cols]"
      ],
      "metadata": {
        "id": "jIBC6oTu6PwL"
      },
      "execution_count": 98,
      "outputs": []
    },
    {
      "cell_type": "code",
      "source": [
        "team_stats['total_statements'] = round(team_stats['total_statements'], 2)\n",
        "team_stats['total_reasons'] = round(team_stats['total_reasons'], 2)"
      ],
      "metadata": {
        "id": "1T09PajVD4s7"
      },
      "execution_count": 99,
      "outputs": []
    },
    {
      "cell_type": "code",
      "source": [
        "from google.colab import files\n",
        "team_stats.to_csv('Leaderboard TeamWise (Output).csv', index=False)\n",
        "files.download('Leaderboard TeamWise (Output).csv')"
      ],
      "metadata": {
        "colab": {
          "base_uri": "https://localhost:8080/",
          "height": 17
        },
        "id": "DasDfiv16Y0o",
        "outputId": "ea998a53-17e6-47e1-fae1-90846d5af856"
      },
      "execution_count": 101,
      "outputs": [
        {
          "output_type": "display_data",
          "data": {
            "text/plain": [
              "<IPython.core.display.Javascript object>"
            ],
            "application/javascript": [
              "\n",
              "    async function download(id, filename, size) {\n",
              "      if (!google.colab.kernel.accessAllowed) {\n",
              "        return;\n",
              "      }\n",
              "      const div = document.createElement('div');\n",
              "      const label = document.createElement('label');\n",
              "      label.textContent = `Downloading \"${filename}\": `;\n",
              "      div.appendChild(label);\n",
              "      const progress = document.createElement('progress');\n",
              "      progress.max = size;\n",
              "      div.appendChild(progress);\n",
              "      document.body.appendChild(div);\n",
              "\n",
              "      const buffers = [];\n",
              "      let downloaded = 0;\n",
              "\n",
              "      const channel = await google.colab.kernel.comms.open(id);\n",
              "      // Send a message to notify the kernel that we're ready.\n",
              "      channel.send({})\n",
              "\n",
              "      for await (const message of channel.messages) {\n",
              "        // Send a message to notify the kernel that we're ready.\n",
              "        channel.send({})\n",
              "        if (message.buffers) {\n",
              "          for (const buffer of message.buffers) {\n",
              "            buffers.push(buffer);\n",
              "            downloaded += buffer.byteLength;\n",
              "            progress.value = downloaded;\n",
              "          }\n",
              "        }\n",
              "      }\n",
              "      const blob = new Blob(buffers, {type: 'application/binary'});\n",
              "      const a = document.createElement('a');\n",
              "      a.href = window.URL.createObjectURL(blob);\n",
              "      a.download = filename;\n",
              "      div.appendChild(a);\n",
              "      a.click();\n",
              "      div.remove();\n",
              "    }\n",
              "  "
            ]
          },
          "metadata": {}
        },
        {
          "output_type": "display_data",
          "data": {
            "text/plain": [
              "<IPython.core.display.Javascript object>"
            ],
            "application/javascript": [
              "download(\"download_255ffdc3-d13d-4867-b4a0-a098f55c1142\", \"Leaderboard TeamWise (Output).csv\", 246)"
            ]
          },
          "metadata": {}
        }
      ]
    },
    {
      "cell_type": "code",
      "source": [
        "df = df.sort_values(['total_statements', 'total_reasons'], ascending=False)"
      ],
      "metadata": {
        "id": "t8km-cIs61lp"
      },
      "execution_count": 75,
      "outputs": []
    },
    {
      "cell_type": "code",
      "source": [
        "df = df.reset_index(drop=True)\n",
        "df.index += 1\n",
        "df = df.rename_axis('Rank').reset_index()"
      ],
      "metadata": {
        "id": "zznXI_F08O5d"
      },
      "execution_count": 76,
      "outputs": []
    },
    {
      "cell_type": "code",
      "source": [
        "df = df[['Rank', 'Name', 'uid', 'total_statements', 'total_reasons']]\n",
        "print(df)"
      ],
      "metadata": {
        "colab": {
          "base_uri": "https://localhost:8080/"
        },
        "id": "iIgA0XIZ8lTI",
        "outputId": "2e9c27b7-4f07-4e4e-8117-fe42efa405f7"
      },
      "execution_count": 77,
      "outputs": [
        {
          "output_type": "stream",
          "name": "stdout",
          "text": [
            "    Rank           Name   uid  total_statements  total_reasons\n",
            "0      1        Ronak 0   302                16             19\n",
            "1      2      Soumita M   280                13             21\n",
            "2      3     Subhangi 0    75                13             16\n",
            "3      4         Merwin   295                13             12\n",
            "4      5    Nitin Shane  1124                12             11\n",
            "5      6         Ayisha  3406                11              8\n",
            "6      7       imshawan    71                 9              9\n",
            "7      8        sharath  3367                 8              8\n",
            "8      9   Anuraj_Saini   342                 7              7\n",
            "9     10       devmenkr   360                 7              7\n",
            "10    11        Saurabh   271                 6              8\n",
            "11    12         Palash    69                 6              7\n",
            "12    13          raman   539                 5              5\n",
            "13    14        Nishant   299                 4              5\n",
            "14    15    Rohit Dutta   266                 3              3\n",
            "15    16    darshimalde  3169                 3              3\n",
            "16    17  __riddhi_213_   504                 2              7\n",
            "17    18  Amrit Malviya   336                 2              4\n",
            "18    19  fardinkamal62   263                 2              2\n",
            "19    20         Shagun   100                 2              2\n",
            "20    21         Vatsal  3408                 2              2\n"
          ]
        }
      ]
    },
    {
      "cell_type": "code",
      "source": [
        "from google.colab import files\n",
        "df.to_csv('Leaderboard Individual (Output).csv', index=False)\n",
        "files.download('Leaderboard Individual (Output).csv')"
      ],
      "metadata": {
        "colab": {
          "base_uri": "https://localhost:8080/",
          "height": 17
        },
        "id": "eVovRufP8n0w",
        "outputId": "1a13a7cc-683b-4c85-88ef-9bfac136ac28"
      },
      "execution_count": 78,
      "outputs": [
        {
          "output_type": "display_data",
          "data": {
            "text/plain": [
              "<IPython.core.display.Javascript object>"
            ],
            "application/javascript": [
              "\n",
              "    async function download(id, filename, size) {\n",
              "      if (!google.colab.kernel.accessAllowed) {\n",
              "        return;\n",
              "      }\n",
              "      const div = document.createElement('div');\n",
              "      const label = document.createElement('label');\n",
              "      label.textContent = `Downloading \"${filename}\": `;\n",
              "      div.appendChild(label);\n",
              "      const progress = document.createElement('progress');\n",
              "      progress.max = size;\n",
              "      div.appendChild(progress);\n",
              "      document.body.appendChild(div);\n",
              "\n",
              "      const buffers = [];\n",
              "      let downloaded = 0;\n",
              "\n",
              "      const channel = await google.colab.kernel.comms.open(id);\n",
              "      // Send a message to notify the kernel that we're ready.\n",
              "      channel.send({})\n",
              "\n",
              "      for await (const message of channel.messages) {\n",
              "        // Send a message to notify the kernel that we're ready.\n",
              "        channel.send({})\n",
              "        if (message.buffers) {\n",
              "          for (const buffer of message.buffers) {\n",
              "            buffers.push(buffer);\n",
              "            downloaded += buffer.byteLength;\n",
              "            progress.value = downloaded;\n",
              "          }\n",
              "        }\n",
              "      }\n",
              "      const blob = new Blob(buffers, {type: 'application/binary'});\n",
              "      const a = document.createElement('a');\n",
              "      a.href = window.URL.createObjectURL(blob);\n",
              "      a.download = filename;\n",
              "      div.appendChild(a);\n",
              "      a.click();\n",
              "      div.remove();\n",
              "    }\n",
              "  "
            ]
          },
          "metadata": {}
        },
        {
          "output_type": "display_data",
          "data": {
            "text/plain": [
              "<IPython.core.display.Javascript object>"
            ],
            "application/javascript": [
              "download(\"download_af2a87d9-3be5-4ad9-a9bf-0c1d7928c16e\", \"Leaderboard Individual (Output).csv\", 483)"
            ]
          },
          "metadata": {}
        }
      ]
    }
  ]
}