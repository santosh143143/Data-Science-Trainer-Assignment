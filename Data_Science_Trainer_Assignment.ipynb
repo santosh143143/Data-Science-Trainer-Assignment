{
  "nbformat": 4,
  "nbformat_minor": 0,
  "metadata": {
    "colab": {
      "provenance": [],
      "authorship_tag": "ABX9TyMU95s1WsEESdZBl4ZHqWlf",
      "include_colab_link": true
    },
    "kernelspec": {
      "name": "python3",
      "display_name": "Python 3"
    },
    "language_info": {
      "name": "python"
    }
  },
  "cells": [
    {
      "cell_type": "markdown",
      "metadata": {
        "id": "view-in-github",
        "colab_type": "text"
      },
      "source": [
        "<a href=\"https://colab.research.google.com/github/santosh143143/Data-Science-Trainer-Assignment/blob/main/Data_Science_Trainer_Assignment.ipynb\" target=\"_parent\"><img src=\"https://colab.research.google.com/assets/colab-badge.svg\" alt=\"Open In Colab\"/></a>"
      ]
    },
    {
      "cell_type": "code",
      "execution_count": 108,
      "metadata": {
        "id": "MGxNlT9Turjg"
      },
      "outputs": [],
      "source": [
        "import numpy as np\n",
        "import pandas as pd"
      ]
    },
    {
      "cell_type": "code",
      "source": [
        "df1 = pd.read_excel('/content/Cleaned Data.xlsx', sheet_name='Sheet1')\n",
        "df2 = pd.read_excel('/content/Cleaned Data.xlsx', sheet_name='Sheet2')"
      ],
      "metadata": {
        "id": "1eq5qxKWu8J2"
      },
      "execution_count": 109,
      "outputs": []
    },
    {
      "cell_type": "code",
      "source": [
        "print(df1)"
      ],
      "metadata": {
        "colab": {
          "base_uri": "https://localhost:8080/"
        },
        "id": "E0RZAX9FxHBA",
        "outputId": "65b06f3f-0ef7-4459-91bb-2bf97ccb8142"
      },
      "execution_count": 110,
      "outputs": [
        {
          "output_type": "stream",
          "name": "stdout",
          "text": [
            "    S No           Name            Team Name  User ID\n",
            "0      1      Soumita M  Winning Culture Lab      280\n",
            "1      2     Subhangi 0  Winning Culture Lab       75\n",
            "2      3    Nitin Shane  Winning Culture Lab     1124\n",
            "3      4         Merwin               Mentor      295\n",
            "4      5  fardinkamal62    Human Capital Lab      263\n",
            "5      6  __riddhi_213_    Human Capital Lab      504\n",
            "6      7    Rohit Dutta               Mentor      266\n",
            "7      8       imshawan             Tech Lab       71\n",
            "8      9   Anuraj_Saini        BrandTech Lab      342\n",
            "9     10        sharath  Student Unicorn Lab     3367\n",
            "10    11        Ronak 0             Tech Lab      302\n",
            "11    12  Amrit Malviya        Brandtech Lab      336\n",
            "12    13        Saurabh               Mentor      271\n",
            "13    14    darshimalde  Student Unicorn Lab     3169\n",
            "14    15         Shagun             Tech Lab      100\n",
            "15    16         Ayisha  Student Unicorn Lab     3406\n",
            "16    17         Palash            Growpital       69\n",
            "17    18          raman            Growpital      539\n",
            "18    19        Nishant            Growpital      299\n",
            "19    20         Vatsal              Kringle     3408\n",
            "20    21       devmenkr              Kringle      360\n"
          ]
        }
      ]
    },
    {
      "cell_type": "code",
      "source": [
        "df2 = df2.drop(['Statement 1', 'Statement 2', 'Statement 3','Statement 4','Statement 5','Statement 6','Statement 7','Statement 8','Statement 9','Statement 10','Statement 11','Statement 12','Statement 13','Statement 14','Statement 15','Statement 16'], axis=1)  # removes columns with the specified names"
      ],
      "metadata": {
        "id": "rM2IrAzw1ge2"
      },
      "execution_count": 111,
      "outputs": []
    },
    {
      "cell_type": "code",
      "source": [
        "print(df2)"
      ],
      "metadata": {
        "colab": {
          "base_uri": "https://localhost:8080/"
        },
        "id": "re4xHIDY1U0K",
        "outputId": "25d9b8a0-4f68-482e-9108-0255ce4cca03"
      },
      "execution_count": 112,
      "outputs": [
        {
          "output_type": "stream",
          "name": "stdout",
          "text": [
            "    S No           name   uid  total_statements  total_reasons\n",
            "0      1      Soumita M   280                13             21\n",
            "1      2     Subhangi 0    75                13             16\n",
            "2      3    Nitin Shane  1124                12             11\n",
            "3      4         Merwin   295                13             12\n",
            "4      5  fardinkamal62   263                 2              2\n",
            "5      6  __riddhi_213_   504                 2              7\n",
            "6      7    Rohit Dutta   266                 3              3\n",
            "7      8       imshawan    71                 9              9\n",
            "8      9   Anuraj_Saini   342                 7              7\n",
            "9     10        sharath  3367                 8              8\n",
            "10    11        Ronak 0   302                16             19\n",
            "11    12  Amrit Malviya   336                 2              4\n",
            "12    13        Saurabh   271                 6              8\n",
            "13    14    darshimalde  3169                 3              3\n",
            "14    15         Shagun   100                 2              2\n",
            "15    16         Ayisha  3406                11              8\n",
            "16    17         Palash    69                 6              7\n",
            "17    18          raman   539                 5              5\n",
            "18    19        Nishant   299                 4              5\n",
            "19    20         Vatsal  3408                 2              2\n",
            "20    21       devmenkr   360                 7              7\n"
          ]
        }
      ]
    },
    {
      "cell_type": "code",
      "source": [
        "df = df1.merge(df2, on='S No', suffixes=('_left', '_right'))\n",
        "df = df.drop(columns=['name','User ID'])"
      ],
      "metadata": {
        "id": "gvNBm9NF2ErC"
      },
      "execution_count": 113,
      "outputs": []
    },
    {
      "cell_type": "code",
      "source": [
        "print(df)"
      ],
      "metadata": {
        "colab": {
          "base_uri": "https://localhost:8080/"
        },
        "id": "DBjFRZlC2-_G",
        "outputId": "19cabf15-f01f-4598-f87e-754a57a54cff"
      },
      "execution_count": 114,
      "outputs": [
        {
          "output_type": "stream",
          "name": "stdout",
          "text": [
            "    S No           Name            Team Name   uid  total_statements  \\\n",
            "0      1      Soumita M  Winning Culture Lab   280                13   \n",
            "1      2     Subhangi 0  Winning Culture Lab    75                13   \n",
            "2      3    Nitin Shane  Winning Culture Lab  1124                12   \n",
            "3      4         Merwin               Mentor   295                13   \n",
            "4      5  fardinkamal62    Human Capital Lab   263                 2   \n",
            "5      6  __riddhi_213_    Human Capital Lab   504                 2   \n",
            "6      7    Rohit Dutta               Mentor   266                 3   \n",
            "7      8       imshawan             Tech Lab    71                 9   \n",
            "8      9   Anuraj_Saini        BrandTech Lab   342                 7   \n",
            "9     10        sharath  Student Unicorn Lab  3367                 8   \n",
            "10    11        Ronak 0             Tech Lab   302                16   \n",
            "11    12  Amrit Malviya        Brandtech Lab   336                 2   \n",
            "12    13        Saurabh               Mentor   271                 6   \n",
            "13    14    darshimalde  Student Unicorn Lab  3169                 3   \n",
            "14    15         Shagun             Tech Lab   100                 2   \n",
            "15    16         Ayisha  Student Unicorn Lab  3406                11   \n",
            "16    17         Palash            Growpital    69                 6   \n",
            "17    18          raman            Growpital   539                 5   \n",
            "18    19        Nishant            Growpital   299                 4   \n",
            "19    20         Vatsal              Kringle  3408                 2   \n",
            "20    21       devmenkr              Kringle   360                 7   \n",
            "\n",
            "    total_reasons  \n",
            "0              21  \n",
            "1              16  \n",
            "2              11  \n",
            "3              12  \n",
            "4               2  \n",
            "5               7  \n",
            "6               3  \n",
            "7               9  \n",
            "8               7  \n",
            "9               8  \n",
            "10             19  \n",
            "11              4  \n",
            "12              8  \n",
            "13              3  \n",
            "14              2  \n",
            "15              8  \n",
            "16              7  \n",
            "17              5  \n",
            "18              5  \n",
            "19              2  \n",
            "20              7  \n"
          ]
        }
      ]
    },
    {
      "cell_type": "code",
      "source": [
        "team_stats = df.groupby(df['Team Name'].str.lower()).agg({'total_statements': 'mean', 'total_reasons': 'mean'}).reset_index()"
      ],
      "metadata": {
        "id": "mmFZ8Vsm3eg4"
      },
      "execution_count": 115,
      "outputs": []
    },
    {
      "cell_type": "code",
      "source": [
        "team_stats = team_stats.sort_values(by='total_statements', ascending=False).reset_index(drop=True)"
      ],
      "metadata": {
        "id": "LAENSm7u5FaV"
      },
      "execution_count": 116,
      "outputs": []
    },
    {
      "cell_type": "code",
      "source": [
        "team_stats['Team Rank'] = team_stats.index + 1"
      ],
      "metadata": {
        "id": "yJMNKo1r5L8I"
      },
      "execution_count": 117,
      "outputs": []
    },
    {
      "cell_type": "code",
      "source": [
        "cols = team_stats.columns.tolist()\n",
        "cols = [cols[3], cols[0], cols[1], cols[2]]\n",
        "team_stats = team_stats[cols]"
      ],
      "metadata": {
        "id": "jIBC6oTu6PwL"
      },
      "execution_count": 118,
      "outputs": []
    },
    {
      "cell_type": "code",
      "source": [
        "team_stats['total_statements'] = round(team_stats['total_statements'], 2)\n",
        "team_stats['total_reasons'] = round(team_stats['total_reasons'], 2)"
      ],
      "metadata": {
        "id": "1T09PajVD4s7"
      },
      "execution_count": 119,
      "outputs": []
    },
    {
      "cell_type": "code",
      "source": [
        "from google.colab import files\n",
        "team_stats.to_csv('Leaderboard TeamWise (Output).csv', index=False)\n",
        "files.download('Leaderboard TeamWise (Output).csv')"
      ],
      "metadata": {
        "colab": {
          "base_uri": "https://localhost:8080/",
          "height": 17
        },
        "id": "DasDfiv16Y0o",
        "outputId": "42852251-21b0-42d7-c968-f2ccbb084c79"
      },
      "execution_count": 103,
      "outputs": [
        {
          "output_type": "display_data",
          "data": {
            "text/plain": [
              "<IPython.core.display.Javascript object>"
            ],
            "application/javascript": [
              "\n",
              "    async function download(id, filename, size) {\n",
              "      if (!google.colab.kernel.accessAllowed) {\n",
              "        return;\n",
              "      }\n",
              "      const div = document.createElement('div');\n",
              "      const label = document.createElement('label');\n",
              "      label.textContent = `Downloading \"${filename}\": `;\n",
              "      div.appendChild(label);\n",
              "      const progress = document.createElement('progress');\n",
              "      progress.max = size;\n",
              "      div.appendChild(progress);\n",
              "      document.body.appendChild(div);\n",
              "\n",
              "      const buffers = [];\n",
              "      let downloaded = 0;\n",
              "\n",
              "      const channel = await google.colab.kernel.comms.open(id);\n",
              "      // Send a message to notify the kernel that we're ready.\n",
              "      channel.send({})\n",
              "\n",
              "      for await (const message of channel.messages) {\n",
              "        // Send a message to notify the kernel that we're ready.\n",
              "        channel.send({})\n",
              "        if (message.buffers) {\n",
              "          for (const buffer of message.buffers) {\n",
              "            buffers.push(buffer);\n",
              "            downloaded += buffer.byteLength;\n",
              "            progress.value = downloaded;\n",
              "          }\n",
              "        }\n",
              "      }\n",
              "      const blob = new Blob(buffers, {type: 'application/binary'});\n",
              "      const a = document.createElement('a');\n",
              "      a.href = window.URL.createObjectURL(blob);\n",
              "      a.download = filename;\n",
              "      div.appendChild(a);\n",
              "      a.click();\n",
              "      div.remove();\n",
              "    }\n",
              "  "
            ]
          },
          "metadata": {}
        },
        {
          "output_type": "display_data",
          "data": {
            "text/plain": [
              "<IPython.core.display.Javascript object>"
            ],
            "application/javascript": [
              "download(\"download_731ca5a8-34a8-4207-8178-c3710bc758fa\", \"Leaderboard TeamWise (Output).csv\", 246)"
            ]
          },
          "metadata": {}
        }
      ]
    },
    {
      "cell_type": "code",
      "source": [
        "df['first_letter'] = df['Name'].apply(lambda x: x[2].lower() if x.startswith('__') else x[0].lower())\n",
        "df = df.assign(sum_total=df['total_statements'] + df['total_reasons']).sort_values(['sum_total', 'first_letter', 'Name'], ascending=[False, True, False])\n",
        "df = df.drop('first_letter', axis=1)\n"
      ],
      "metadata": {
        "id": "l8bpL-ou8ZRS"
      },
      "execution_count": 121,
      "outputs": []
    },
    {
      "cell_type": "code",
      "source": [
        "print(df)"
      ],
      "metadata": {
        "id": "SSniK8fp8bV9",
        "outputId": "afc2f1b7-4b43-44dd-eb27-0338712b1d2a",
        "colab": {
          "base_uri": "https://localhost:8080/"
        }
      },
      "execution_count": 122,
      "outputs": [
        {
          "output_type": "stream",
          "name": "stdout",
          "text": [
            "    S No           Name            Team Name   uid  total_statements  \\\n",
            "10    11        Ronak 0             Tech Lab   302                16   \n",
            "0      1      Soumita M  Winning Culture Lab   280                13   \n",
            "1      2     Subhangi 0  Winning Culture Lab    75                13   \n",
            "3      4         Merwin               Mentor   295                13   \n",
            "2      3    Nitin Shane  Winning Culture Lab  1124                12   \n",
            "15    16         Ayisha  Student Unicorn Lab  3406                11   \n",
            "7      8       imshawan             Tech Lab    71                 9   \n",
            "9     10        sharath  Student Unicorn Lab  3367                 8   \n",
            "8      9   Anuraj_Saini        BrandTech Lab   342                 7   \n",
            "20    21       devmenkr              Kringle   360                 7   \n",
            "12    13        Saurabh               Mentor   271                 6   \n",
            "16    17         Palash            Growpital    69                 6   \n",
            "17    18          raman            Growpital   539                 5   \n",
            "18    19        Nishant            Growpital   299                 4   \n",
            "5      6  __riddhi_213_    Human Capital Lab   504                 2   \n",
            "11    12  Amrit Malviya        Brandtech Lab   336                 2   \n",
            "13    14    darshimalde  Student Unicorn Lab  3169                 3   \n",
            "6      7    Rohit Dutta               Mentor   266                 3   \n",
            "4      5  fardinkamal62    Human Capital Lab   263                 2   \n",
            "14    15         Shagun             Tech Lab   100                 2   \n",
            "19    20         Vatsal              Kringle  3408                 2   \n",
            "\n",
            "    total_reasons  sum_total  \n",
            "10             19         35  \n",
            "0              21         34  \n",
            "1              16         29  \n",
            "3              12         25  \n",
            "2              11         23  \n",
            "15              8         19  \n",
            "7               9         18  \n",
            "9               8         16  \n",
            "8               7         14  \n",
            "20              7         14  \n",
            "12              8         14  \n",
            "16              7         13  \n",
            "17              5         10  \n",
            "18              5          9  \n",
            "5               7          9  \n",
            "11              4          6  \n",
            "13              3          6  \n",
            "6               3          6  \n",
            "4               2          4  \n",
            "14              2          4  \n",
            "19              2          4  \n"
          ]
        }
      ]
    },
    {
      "cell_type": "code",
      "source": [
        "df = df.reset_index(drop=True)  # reset index\n",
        "df.insert(0, 'Rank', range(1, len(df) + 1))  # add Rank column at the beginning\n",
        "df = df[['Rank', 'Name', 'uid', 'total_statements', 'total_reasons']]  # reorder columns\n",
        "print(df)\n"
      ],
      "metadata": {
        "id": "OEXRvFxzBmCM",
        "outputId": "7f925a84-5b5c-4020-9805-d704ae1a1e0d",
        "colab": {
          "base_uri": "https://localhost:8080/"
        }
      },
      "execution_count": 142,
      "outputs": [
        {
          "output_type": "stream",
          "name": "stdout",
          "text": [
            "    Rank           Name   uid  total_statements  total_reasons\n",
            "0      1        Ronak 0   302                16             19\n",
            "1      2      Soumita M   280                13             21\n",
            "2      3     Subhangi 0    75                13             16\n",
            "3      4         Merwin   295                13             12\n",
            "4      5    Nitin Shane  1124                12             11\n",
            "5      6         Ayisha  3406                11              8\n",
            "6      7       imshawan    71                 9              9\n",
            "7      8        sharath  3367                 8              8\n",
            "8      9   Anuraj_Saini   342                 7              7\n",
            "9     10       devmenkr   360                 7              7\n",
            "10    11        Saurabh   271                 6              8\n",
            "11    12         Palash    69                 6              7\n",
            "12    13          raman   539                 5              5\n",
            "13    14        Nishant   299                 4              5\n",
            "14    15  __riddhi_213_   504                 2              7\n",
            "15    16  Amrit Malviya   336                 2              4\n",
            "16    17    darshimalde  3169                 3              3\n",
            "17    18    Rohit Dutta   266                 3              3\n",
            "18    19  fardinkamal62   263                 2              2\n",
            "19    20         Shagun   100                 2              2\n",
            "20    21         Vatsal  3408                 2              2\n"
          ]
        }
      ]
    },
    {
      "cell_type": "code",
      "source": [
        "from google.colab import files\n",
        "df.to_csv('Leaderboard Individual (Output).csv', index=False)\n",
        "files.download('Leaderboard Individual (Output).csv')"
      ],
      "metadata": {
        "colab": {
          "base_uri": "https://localhost:8080/",
          "height": 17
        },
        "id": "eVovRufP8n0w",
        "outputId": "867951bb-ef35-4209-b991-08b085663550"
      },
      "execution_count": 143,
      "outputs": [
        {
          "output_type": "display_data",
          "data": {
            "text/plain": [
              "<IPython.core.display.Javascript object>"
            ],
            "application/javascript": [
              "\n",
              "    async function download(id, filename, size) {\n",
              "      if (!google.colab.kernel.accessAllowed) {\n",
              "        return;\n",
              "      }\n",
              "      const div = document.createElement('div');\n",
              "      const label = document.createElement('label');\n",
              "      label.textContent = `Downloading \"${filename}\": `;\n",
              "      div.appendChild(label);\n",
              "      const progress = document.createElement('progress');\n",
              "      progress.max = size;\n",
              "      div.appendChild(progress);\n",
              "      document.body.appendChild(div);\n",
              "\n",
              "      const buffers = [];\n",
              "      let downloaded = 0;\n",
              "\n",
              "      const channel = await google.colab.kernel.comms.open(id);\n",
              "      // Send a message to notify the kernel that we're ready.\n",
              "      channel.send({})\n",
              "\n",
              "      for await (const message of channel.messages) {\n",
              "        // Send a message to notify the kernel that we're ready.\n",
              "        channel.send({})\n",
              "        if (message.buffers) {\n",
              "          for (const buffer of message.buffers) {\n",
              "            buffers.push(buffer);\n",
              "            downloaded += buffer.byteLength;\n",
              "            progress.value = downloaded;\n",
              "          }\n",
              "        }\n",
              "      }\n",
              "      const blob = new Blob(buffers, {type: 'application/binary'});\n",
              "      const a = document.createElement('a');\n",
              "      a.href = window.URL.createObjectURL(blob);\n",
              "      a.download = filename;\n",
              "      div.appendChild(a);\n",
              "      a.click();\n",
              "      div.remove();\n",
              "    }\n",
              "  "
            ]
          },
          "metadata": {}
        },
        {
          "output_type": "display_data",
          "data": {
            "text/plain": [
              "<IPython.core.display.Javascript object>"
            ],
            "application/javascript": [
              "download(\"download_d5c8d71e-8daf-4dd8-af19-ce64ea6f8166\", \"Leaderboard Individual (Output).csv\", 483)"
            ]
          },
          "metadata": {}
        }
      ]
    }
  ]
}